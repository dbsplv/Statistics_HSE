{
 "cells": [
  {
   "cell_type": "code",
   "execution_count": 1,
   "id": "1d124585",
   "metadata": {},
   "outputs": [],
   "source": [
    "import pandas as pd\n",
    "import numpy as np\n",
    "import matplotlib.pyplot as plt\n",
    "import math\n",
    "import scipy.stats as st\n",
    "import seaborn\n",
    "from scipy.optimize import approx_fprime, minimize, line_search"
   ]
  },
  {
   "cell_type": "markdown",
   "id": "076cc5fe",
   "metadata": {},
   "source": [
    "# Метод максимального правдоподобия\n"
   ]
  },
  {
   "cell_type": "code",
   "execution_count": null,
   "id": "0aa4f3f3",
   "metadata": {},
   "outputs": [],
   "source": [
    "n=1000\n",
    "\n",
    "Lambda=0.2\n",
    "x=st.expon.rvs(size=n, scale =1 /Lambda)"
   ]
  },
  {
   "cell_type": "markdown",
   "id": "f9caeaf2",
   "metadata": {},
   "source": [
    "Аналитически ML оценка имеет вид  \n",
    "Тут можно юзать свойство ML оценок от функций от оценок  \n",
    "(или дельта метод?)\n"
   ]
  },
  {
   "cell_type": "code",
   "execution_count": null,
   "id": "ec14f24e",
   "metadata": {},
   "outputs": [],
   "source": [
    "\n",
    "Lambda_ml = 1/np.mean(x)\n",
    "Lambda_ml"
   ]
  },
  {
   "cell_type": "markdown",
   "id": "40d37e94",
   "metadata": {},
   "source": [
    "Численно можно запрогать "
   ]
  },
  {
   "cell_type": "code",
   "execution_count": null,
   "id": "aaaccaec",
   "metadata": {},
   "outputs": [],
   "source": [
    "def lnL(Lambda,x,scale=1):\n",
    "    # Считаем плотность для каждого наблюдения\n",
    "    f_x=st.expon.pdf(x,scale = 1/Lambda) \n",
    "    \n",
    "    lnL_value = np.log(f_x)\n",
    "    \n",
    "    return sum(lnL_value) *scale"
   ]
  },
  {
   "cell_type": "code",
   "execution_count": null,
   "id": "b0708256",
   "metadata": {},
   "outputs": [],
   "source": [
    "\n",
    "print('lnL(Lambda,x) = ',lnL(Lambda,x)) \n",
    "print('lnL(Lambda_ml,x) = ',lnL(Lambda_ml,x)) \n"
   ]
  },
  {
   "cell_type": "markdown",
   "id": "24bcc1d3",
   "metadata": {},
   "source": [
    "Поскольку нам нужно максимизировать функ максимального правдоподобия,   \n",
    "то будем домножать ее на -1,   \n",
    "тем самым переворачивая значения и получая задачу минимизации\n",
    "\n",
    "Функция minimize автоматически будет минимизировать по первому параметру функции fun то есть по Lambda"
   ]
  },
  {
   "cell_type": "code",
   "execution_count": null,
   "id": "438bc564",
   "metadata": {},
   "outputs": [],
   "source": [
    "lnL_opt = minimize(fun=lnL, x0=0.1,args=(x,-1),method='BFGS')"
   ]
  },
  {
   "cell_type": "code",
   "execution_count": null,
   "id": "86c14bb3",
   "metadata": {},
   "outputs": [],
   "source": [
    "#Видим, что численно для максимума получили тот же резульат\n",
    "#как и в теории \n",
    "\n",
    "print(-1*lnL_opt.fun)\n",
    "print(lnL_opt.x)"
   ]
  },
  {
   "cell_type": "markdown",
   "id": "406d9c69",
   "metadata": {},
   "source": [
    "# Информация Фишера и асимптотич дисперсия"
   ]
  },
  {
   "cell_type": "markdown",
   "id": "eb5ec79e",
   "metadata": {},
   "source": [
    "Информация Фишера для экспоненциального распределения известна  \n",
    "и равна $\\frac{n}{\\lambda^2}$  \n",
    "\n",
    "\n",
    "Поскольку Ml оценка остсоятельна, несмещена, эффективна, то\n",
    "* $ \\frac{1}{I(\\theta)} = Var(\\hat{\\theta})$ - следствие из эффективности (в остальных случаях тут нер-во влево)\n",
    "* $I(\\theta) = g(\\theta)$ по дельта методу имеем, что $I(\\hat{\\theta}) \\rightarrow I(\\theta)$ и \n",
    "* $I(\\hat{\\theta}) \\sim N(I(\\hat{\\theta}), I'(\\theta)^2 Var(\\theta)  )$ \n",
    " \n",
    "\n",
    "\n",
    "Асимптотич дисперсия ml оценки параметра экспоненциального распределения 1/I"
   ]
  },
  {
   "cell_type": "code",
   "execution_count": null,
   "id": "3b3e3e72",
   "metadata": {},
   "outputs": [],
   "source": [
    "I=n/Lambda**2\n",
    "Lambda_ml_var=1/I"
   ]
  },
  {
   "cell_type": "markdown",
   "id": "e9ba8647",
   "metadata": {},
   "source": [
    "# Асимптотическая нормальность        ML оценок"
   ]
  },
  {
   "cell_type": "code",
   "execution_count": null,
   "id": "d7857bdd",
   "metadata": {},
   "outputs": [],
   "source": [
    "m = 10000 \n",
    "Lambda_ml_vec = [1/np.mean(st.expon.rvs(size=n,scale = 1/Lambda)) for i in range(m) ]\n",
    "mu=Lambda     #оценка несмещена\n",
    "sigma=np.sqrt(Lambda_ml_var)      #= sqrt(1/I)\n",
    "\n",
    "print(mu)\n",
    "print(sigma)\n"
   ]
  },
  {
   "cell_type": "code",
   "execution_count": null,
   "id": "7285841c",
   "metadata": {},
   "outputs": [],
   "source": [
    "t=np.linspace(st.norm.ppf(0.01, loc=mu,scale=sigma), st.norm.ppf(0.99, loc=mu,scale=sigma), num = 1000)\n",
    "            \n",
    "plt.plot(t,st.norm.pdf(t, loc=mu,scale=sigma), label ='Normal pdf')\n",
    "plt.xlabel('x')\n",
    "plt.ylabel('y')\n",
    "\n",
    "seaborn.histplot(Lambda_ml_vec, stat='density', label='ML est hist')\n",
    "\n",
    "plt.legend()"
   ]
  },
  {
   "cell_type": "markdown",
   "id": "fe95851a",
   "metadata": {},
   "source": [
    "стоит заметить, что при малой выборке экспон распределения (n=10)  \n",
    "Распределение ml оценки его параметра не похоже на нормальное  \n",
    "Это свойство гарантируется только в асимптотике\n"
   ]
  },
  {
   "cell_type": "markdown",
   "id": "908d0f79",
   "metadata": {},
   "source": [
    "# Асимптотическая нормальность функций от ML оценок"
   ]
  },
  {
   "cell_type": "code",
   "execution_count": null,
   "id": "6f2338cc",
   "metadata": {},
   "outputs": [],
   "source": [
    "# Рассмотрим распределение оценки информации\n",
    "# Фишера, обратив внимание, что она является\n",
    "# функцией от ММП оценки параметра 'lambda'.\n",
    "# Следовательно, асимптотическое распределеине\n",
    "# оценки информации Фишера будет нормальным со\n",
    "# следующими, получаеыми по дельта методу\n",
    "# параметрами:\n"
   ]
  },
  {
   "cell_type": "code",
   "execution_count": null,
   "id": "03f2efae",
   "metadata": {},
   "outputs": [],
   "source": [
    "# асимптотическое математическое ожидание\n",
    "I_mean = I          \n",
    "\n",
    "Lambda_var = 1 / I\n",
    "\n",
    "# асимптотическая дисперсия\n",
    "I_var = Lambda_var * (2 * n / (Lambda ** 3)) ** 2    \n",
    "\n",
    " \n",
    " # и ее ММП оценка\n",
    "I_var_est = Lambda_ml_var * (2 * n /                  \n",
    "                              (Lambda_ml_var ** 3)) ** 2\n"
   ]
  },
  {
   "cell_type": "code",
   "execution_count": null,
   "id": "8da0082f",
   "metadata": {},
   "outputs": [],
   "source": [
    "I_est_vec  = [n*np.mean(st.expon.rvs(size=n,scale=1/Lambda))**2 for i in range(m) ]\n",
    "print(np.mean(I_est_vec))\n",
    "print(I)\n"
   ]
  },
  {
   "cell_type": "code",
   "execution_count": null,
   "id": "45348732",
   "metadata": {},
   "outputs": [],
   "source": [
    "t=np.linspace(st.norm.ppf(0.01,loc = I_mean, scale =np.sqrt(I_var) )   ,\n",
    "             st.norm.ppf(0.99,loc = I_mean, scale =np.sqrt(I_var) )   ,\n",
    "             1000\n",
    "             )\n",
    "\n",
    "fig, ax = plt.subplots()\n",
    "\n",
    "ax.plot(t, st.norm.pdf(t, loc = I_mean, scale =np.sqrt(I_var)), label='Theoretical dist of I est')\n",
    "seaborn.histplot(I_est_vec, stat='density', label='I ml est hist')\n",
    "ax.legend()\n",
    "plt.plot()"
   ]
  },
  {
   "cell_type": "markdown",
   "id": "df1c0cd7",
   "metadata": {},
   "source": [
    "# Задания "
   ]
  },
  {
   "cell_type": "code",
   "execution_count": null,
   "id": "431f43b3",
   "metadata": {},
   "outputs": [],
   "source": [
    "# 1. По выборке из экспоненциального распределения\n",
    "#    с параметром 'lambda = 0.3' при объемах выборки\n",
    "#    n равных 10, 20, 50, 100 и 1000 сравните, как\n",
    "#    соотносятся:\n",
    "#    1)     Истинное значение параметра и его ММП оценка\n",
    "#    2)     Истинное значение асимптотической дисперсии\n",
    "#           ММП оценки и ее (этой дисперсии) ММП оценка\n",
    "#    3)     Асимптотическая вероятность того, что\n",
    "#           параметр отклонится от истинного значения\n",
    "#           более, чем на 2%, и ММП оценка этой вероятности\n",
    "#    4*)    Сравните полученные в предыдущем пункте\n",
    "#           значения с как можно более точной, то есть\n",
    "#           полученной по очень большой выборке из ММП\n",
    "#           оценок, оценкой истинной вероятности того, что\n",
    "#           ММП оценка отклонится от истинного значения\n",
    "#           оцениваемого параметра более, чем на 2%\n",
    "#    5)     График функции плотности асимптотического распределения\n",
    "#           ММП оценки и его оценка\n",
    "#    6*)    Повторите предыдущие пункты для ММП оценки\n",
    "#           асимптотической дисперсии ММП оценки параметра 'lambda'\n",
    "#    7**)   Повторите предыдущие пункты для ММП оценки вероятности\n",
    "#           из пункта 3)\n",
    "#    8)     Повторите предыдущие пункты для распределения\n",
    "#           Пуассона с параметром 'lambda = 5'"
   ]
  },
  {
   "cell_type": "markdown",
   "id": "d20bc44e",
   "metadata": {},
   "source": [
    "## Задание 1 \n",
    "\n"
   ]
  },
  {
   "cell_type": "code",
   "execution_count": 2,
   "id": "848f521a",
   "metadata": {},
   "outputs": [
    {
     "name": "stderr",
     "output_type": "stream",
     "text": [
      "C:\\Users\\dbesp\\AppData\\Local\\Temp/ipykernel_13340/3736437503.py:7: VisibleDeprecationWarning: Creating an ndarray from ragged nested sequences (which is a list-or-tuple of lists-or-tuples-or ndarrays with different lengths or shapes) is deprecated. If you meant to do this, you must specify 'dtype=object' when creating the ndarray.\n",
      "  x=np.array([st.expon.rvs(size=i, scale=1/Lambda) for i in n])\n"
     ]
    }
   ],
   "source": [
    "Lambda = 0.3\n",
    "\n",
    "n=np.array([10,20,50,100,1000,10000])\n",
    "\n",
    "\n",
    "\n",
    "x=np.array([st.expon.rvs(size=i, scale=1/Lambda) for i in n])\n",
    "Lambda_ml = np.array([1/ np.mean(i) for i in x])"
   ]
  },
  {
   "cell_type": "code",
   "execution_count": 3,
   "id": "b5a27960",
   "metadata": {},
   "outputs": [
    {
     "data": {
      "text/plain": [
       "[]"
      ]
     },
     "execution_count": 3,
     "metadata": {},
     "output_type": "execute_result"
    },
    {
     "data": {
      "image/png": "[encoded data removed]",
      "text/plain": [
       "<Figure size 432x288 with 1 Axes>"
      ]
     },
     "metadata": {
      "needs_background": "light"
     },
     "output_type": "display_data"
    }
   ],
   "source": [
    "t=[0,1,2,3,4,5]\n",
    "\n",
    "fig,ax =plt.subplots()\n",
    "ax.axhline(y = Lambda , linestyle='-',                  # истинное значение оцениваемого\n",
    "            color='black', label = \"lambda\")              # параметра theta\n",
    "\n",
    "\n",
    "plt.xticks(t, [str(i) for i in n])\n",
    "ax.scatter(t,Lambda_ml,label='Lambda estimates')\n",
    "ax.set_xlabel('Sample size')\n",
    "ax.set_ylabel('Parameter Estimation Value')\n",
    "ax.set_title('Lambda and estimates', fontsize=20)\n",
    "ax.legend()\n",
    "ax.plot()"
   ]
  },
  {
   "cell_type": "markdown",
   "id": "7a660298",
   "metadata": {},
   "source": [
    "## Задание 2"
   ]
  },
  {
   "cell_type": "code",
   "execution_count": 4,
   "id": "b533dea4",
   "metadata": {},
   "outputs": [],
   "source": [
    "# 1. По выборке из экспоненциального распределения\n",
    "#    с параметром 'lambda = 0.3' при объемах выборки\n",
    "#    n равных 10, 20, 50, 100 и 1000 сравните, как\n",
    "#    соотносятся:\n",
    "\n",
    "#    2)     Истинное значение асимптотической дисперсии\n",
    "#           ММП оценки и ее (этой дисперсии) ММП оценка"
   ]
  },
  {
   "cell_type": "code",
   "execution_count": 5,
   "id": "1b4a6121",
   "metadata": {},
   "outputs": [],
   "source": [
    "\n",
    "I=n/Lambda**2\n",
    "#Истинное значение асимптотической дисперсии\n",
    "#           ММП оценки\n",
    "Var_Lambda_est=1/I\n"
   ]
  },
  {
   "cell_type": "markdown",
   "id": "9226a26b",
   "metadata": {},
   "source": [
    "ММП оценка асимптотической дисперсии ММП оценки\n",
    "\n",
    "$$\\hat{as.var(\\hat{\\lambda}_{ML})_{ML}}  = \\hat{\\frac{1}{I(\\lambda)}_{ML}} = \\frac{1}{I(\\hat{\\lambda_{ML}})}   $$\n"
   ]
  },
  {
   "cell_type": "code",
   "execution_count": 6,
   "id": "31922e96",
   "metadata": {},
   "outputs": [],
   "source": [
    "As_var_ml = Lambda_ml**2 /n\n"
   ]
  },
  {
   "cell_type": "code",
   "execution_count": 7,
   "id": "acaf019b",
   "metadata": {},
   "outputs": [
    {
     "data": {
      "text/plain": [
       "[]"
      ]
     },
     "execution_count": 7,
     "metadata": {},
     "output_type": "execute_result"
    },
    {
     "data": {
      "image/png": "[encoded data removed]",
      "text/plain": [
       "<Figure size 720x720 with 1 Axes>"
      ]
     },
     "metadata": {
      "needs_background": "light"
     },
     "output_type": "display_data"
    }
   ],
   "source": [
    "t=[0,1,2,3,4,5]\n",
    "\n",
    "fig,ax =plt.subplots()\n",
    "\n",
    "fig.set_size_inches(10,10)\n",
    "\n",
    "plt.xticks(t, [str(i) for i in n])\n",
    "ax.plot(t,Var_Lambda_est,label='Истинное значение ас дисперсии ММП оценки',\n",
    "          linewidth  =3, alpha =0.8, marker = 'o',markersize=10\n",
    "          )\n",
    "ax.plot(t,As_var_ml,label='ММП оценка ас дисперсии ММП оценки',\n",
    "          linewidth  =3, alpha =0.8, marker = 'o',markersize=10 )\n",
    "ax.set_xlabel('Sample size')\n",
    "ax.set_ylabel('Value')\n",
    "ax.set_title('Асимптотич дисперсия ml оценки и ее(этой дисперсии) ml оценка', fontsize=20)\n",
    "ax.legend()\n",
    "ax.plot()"
   ]
  },
  {
   "cell_type": "code",
   "execution_count": 89,
   "id": "09252714",
   "metadata": {},
   "outputs": [],
   "source": [
    "# 1. По выборке из экспоненциального распределения\n",
    "#    с параметром 'lambda = 0.3' при объемах выборки\n",
    "#    n равных 10, 20, 50, 100 и 1000 сравните, как\n",
    "#    соотносятся:\n",
    "\n",
    "#    3)     Асимптотическая вероятность того, что\n",
    "#           параметр отклонится от истинного значения\n",
    "#           более, чем на 2%, и ММП оценка этой вероятности"
   ]
  },
  {
   "cell_type": "markdown",
   "id": "a2f208ca",
   "metadata": {},
   "source": [
    "поскольку ML оценки асимптотически нормальны, то\n",
    " \n",
    "\n",
    "$$ P \\left\\{ 100\\left|\\frac{\\hat{\\lambda_{ML} } } {\\lambda} \\right| >102    \\right\\} = 1 - P \\left\\{-1.02 \\lambda < \\hat{\\lambda_{ML} } <1.02 \\lambda    \\right\\} = 1 - P \\left\\{\\frac{-1.02 \\lambda}{\\sqrt{as.var(\\hat{\\lambda_{ML} })}} < N(0,1) < \\frac{ 1.02\\lambda}{\\sqrt{as.var(\\hat{\\lambda_{ML} })}}    \\right\\}  $$"
   ]
  },
  {
   "cell_type": "code",
   "execution_count": 22,
   "id": "694f052e",
   "metadata": {},
   "outputs": [
    {
     "data": {
      "text/plain": [
       "array([1.25742638e-03, 5.07704457e-06, 5.49338353e-13, 0.00000000e+00,\n",
       "       0.00000000e+00, 0.00000000e+00])"
      ]
     },
     "execution_count": 22,
     "metadata": {},
     "output_type": "execute_result"
    }
   ],
   "source": [
    "1 - (st.norm.cdf(1.02*Lambda / np.sqrt(Var_Lambda_est),  \n",
    "            loc = 0, scale = 1) - st.norm.cdf(-1.02*Lambda / np.sqrt(Var_Lambda_est), \n",
    "                                              loc = 0, scale = 1))"
   ]
  },
  {
   "cell_type": "markdown",
   "id": "9ddb9a6b",
   "metadata": {},
   "source": [
    "Видим, что истинная асимптотическая вероятность отклониться от параметра на 2 процента очень мала и уменьшается с ростом числа наблюдений  \n",
    "\n",
    "Чтобы посчитать оценку, давайте посмотрим на долю наблюдений, в которых такое отклонение произошло"
   ]
  },
  {
   "cell_type": "code",
   "execution_count": 16,
   "id": "2fd887bd",
   "metadata": {},
   "outputs": [
    {
     "data": {
      "text/plain": [
       "array([0., 0., 0., 0., 0., 0.])"
      ]
     },
     "execution_count": 16,
     "metadata": {},
     "output_type": "execute_result"
    }
   ],
   "source": [
    "np.zeros(len(n))"
   ]
  },
  {
   "cell_type": "code",
   "execution_count": 29,
   "id": "2abba09a",
   "metadata": {},
   "outputs": [
    {
     "name": "stderr",
     "output_type": "stream",
     "text": [
      "C:\\Users\\dbesp\\AppData\\Local\\Temp/ipykernel_13340/284891498.py:5: VisibleDeprecationWarning: Creating an ndarray from ragged nested sequences (which is a list-or-tuple of lists-or-tuples-or ndarrays with different lengths or shapes) is deprecated. If you meant to do this, you must specify 'dtype=object' when creating the ndarray.\n",
      "  x=np.array([st.expon.rvs(size=i, scale=1/Lambda) for i in n])\n"
     ]
    },
    {
     "name": "stdout",
     "output_type": "stream",
     "text": [
      "[0.514 0.514 0.488 0.423 0.284 0.023]\n"
     ]
    }
   ],
   "source": [
    "m= 1000\n",
    "\n",
    "cnt=np.zeros(len(n))\n",
    "for k in range(m):\n",
    "    x=np.array([st.expon.rvs(size=i, scale=1/Lambda) for i in n])\n",
    "    Lambda_ml = np.array([1/ np.mean(i) for i in x])\n",
    "   \n",
    "    for i in range(len(n)):\n",
    "        if np.abs(Lambda_ml[i]/ Lambda)>1.02:\n",
    "            cnt[i]=cnt[i]+1\n",
    "\n",
    "print(cnt/m)"
   ]
  },
  {
   "cell_type": "markdown",
   "id": "9891cf8d",
   "metadata": {},
   "source": [
    "Видим, что оценка вероятности также уменьшается с ростом числа наблюдений"
   ]
  },
  {
   "cell_type": "code",
   "execution_count": null,
   "id": "bfbe7437",
   "metadata": {},
   "outputs": [],
   "source": []
  }
 ],
 "metadata": {
  "kernelspec": {
   "display_name": "Python 3 (ipykernel)",
   "language": "python",
   "name": "python3"
  },
  "language_info": {
   "codemirror_mode": {
    "name": "ipython",
    "version": 3
   },
   "file_extension": ".py",
   "mimetype": "text/x-python",
   "name": "python",
   "nbconvert_exporter": "python",
   "pygments_lexer": "ipython3",
   "version": "3.9.7"
  }
 },
 "nbformat": 4,
 "nbformat_minor": 5
}
