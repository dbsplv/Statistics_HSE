{
 "cells": [
  {
   "cell_type": "code",
   "execution_count": 104,
   "id": "dfd62ef8",
   "metadata": {},
   "outputs": [],
   "source": [
    "import pandas as pd\n",
    "import numpy as np\n",
    "import matplotlib.pyplot as plt\n",
    "import scipy.stats as st\n",
    "import math\n",
    "\n",
    "plt.style.use('ggplot')"
   ]
  },
  {
   "cell_type": "markdown",
   "id": "6643de3b",
   "metadata": {},
   "source": [
    "# Часть №1. Доверительный интервал для          математического ожидания"
   ]
  },
  {
   "cell_type": "code",
   "execution_count": 105,
   "id": "a897491b",
   "metadata": {},
   "outputs": [],
   "source": [
    "n= 20\n",
    "mu=5\n",
    "sigma = 10\n",
    "x=st.norm.rvs(size=n, loc = mu,scale = sigma)\n"
   ]
  },
  {
   "cell_type": "markdown",
   "id": "9ff6e558",
   "metadata": {},
   "source": [
    "## Известная дисперсия"
   ]
  },
  {
   "cell_type": "markdown",
   "id": "de30042b",
   "metadata": {},
   "source": [
    "Используем нормальное распределение "
   ]
  },
  {
   "cell_type": "code",
   "execution_count": 106,
   "id": "ff2f8229",
   "metadata": {},
   "outputs": [],
   "source": [
    "x_mean = np.mean(x)\n",
    "x_var = np.var(x, ddof = 1 ) #исправл дисп"
   ]
  },
  {
   "cell_type": "code",
   "execution_count": 107,
   "id": "eeae521b",
   "metadata": {},
   "outputs": [
    {
     "name": "stdout",
     "output_type": "stream",
     "text": [
      "95.0% conf interval for E[x1] is [-2.924353471022897, 5.8408719347429185]\n"
     ]
    }
   ],
   "source": [
    "alpha = 0.05\n",
    "\n",
    "\n",
    "\n",
    "conf_l = x_mean + st.norm.ppf(alpha/2)* sigma /np.sqrt(n)\n",
    "conf_r = x_mean + st.norm.ppf(1-alpha/2)* sigma /np.sqrt(n)\n",
    "print('{}% conf interval for E[x1] is [{}, {}]'. format( (1-alpha)* 100,conf_l,conf_r))"
   ]
  },
  {
   "cell_type": "markdown",
   "id": "bf365b6e",
   "metadata": {},
   "source": [
    "## Неизвестная дисперсия\n"
   ]
  },
  {
   "cell_type": "markdown",
   "id": "9b47ce55",
   "metadata": {},
   "source": [
    "Используем t - распределение Стьюдента"
   ]
  },
  {
   "cell_type": "code",
   "execution_count": 108,
   "id": "a1b9d95d",
   "metadata": {},
   "outputs": [
    {
     "name": "stdout",
     "output_type": "stream",
     "text": [
      "95.0% t - conf interval for E[x1] is [-2.7514981003753345, 5.668016564095356]\n"
     ]
    }
   ],
   "source": [
    "sigma_est = np.sqrt(x_var)\n",
    "\n",
    "t_conf_l= x_mean + st.t.ppf(alpha/2, df= n-1)* sigma_est /np.sqrt(n)\n",
    "t_conf_r= x_mean + st.t.ppf(1-alpha/2, df= n-1)* sigma_est /np.sqrt(n)\n",
    "\n",
    "print('{}% t - conf interval for E[x1] is [{}, {}]'. format( (1-alpha)* 100,t_conf_l,t_conf_r))"
   ]
  },
  {
   "cell_type": "markdown",
   "id": "320d95b0",
   "metadata": {},
   "source": [
    "# Часть №2. Доверительный интервал для           дисперсии"
   ]
  },
  {
   "cell_type": "markdown",
   "id": "68514551",
   "metadata": {},
   "source": [
    "По лемме Фишера знаем, что\n",
    "\n",
    "$$\\frac{\\hat{\\sigma^2}}{\\sigma^2}(n-1) \\sim \\chi^2_{n-1}$$"
   ]
  },
  {
   "cell_type": "code",
   "execution_count": 109,
   "id": "9c2bd037",
   "metadata": {},
   "outputs": [
    {
     "name": "stdout",
     "output_type": "stream",
     "text": [
      "95.0% t - conf interval for D[x1] is [46.793243154613954, 172.60024411841079]\n"
     ]
    }
   ],
   "source": [
    "alpha = 0.05 \n",
    "\n",
    "\n",
    "sigma_conf_l = x_var * (n-1) / st.chi2.ppf(1- alpha/2, df= n-1)\n",
    "sigma_conf_r = x_var * (n-1) / st.chi2.ppf(alpha/2, df= n-1)\n",
    "print('{}% t - conf interval for D[x1] is [{}, {}]'. format( (1-alpha)* 100,sigma_conf_l,sigma_conf_r))"
   ]
  },
  {
   "cell_type": "markdown",
   "id": "7e9f9656",
   "metadata": {},
   "source": [
    "# Часть №3. Эксперименты с доверительными интервалами"
   ]
  },
  {
   "cell_type": "code",
   "execution_count": 110,
   "id": "bc9b75fa",
   "metadata": {},
   "outputs": [],
   "source": [
    "# Сгенерируем m выборок и посмотрим долю случаев,\n",
    "# когда истинное значение параметра mu попадает\n",
    "# в реализацию (1-a)*100 доверительного интервала\n",
    "# при неизвестной дисперсии"
   ]
  },
  {
   "cell_type": "code",
   "execution_count": 111,
   "id": "5f98f731",
   "metadata": {},
   "outputs": [
    {
     "name": "stdout",
     "output_type": "stream",
     "text": [
      "95.0% t - conf interval for E[x1] is [-2.7514981003753345, 5.668016564095356]\n"
     ]
    }
   ],
   "source": [
    "print('{}% t - conf interval for E[x1] is [{}, {}]'. format( (1-alpha)* 100,t_conf_l,t_conf_r))"
   ]
  },
  {
   "cell_type": "code",
   "execution_count": 112,
   "id": "7447e782",
   "metadata": {},
   "outputs": [
    {
     "name": "stdout",
     "output_type": "stream",
     "text": [
      "0.95\n"
     ]
    }
   ],
   "source": [
    "m = 1000\n",
    "\n",
    "x_vec = [st.norm.rvs(size= n,loc = mu,scale = sigma) for i in range(m)]\n",
    "cnt = 0\n",
    "\n",
    "for i in range(m):\n",
    "    x_i_mean = np.mean(x_vec[i])\n",
    "    x_i_var = np.var(x_vec[i],ddof=1)\n",
    "    \n",
    "    t_left= st.t.ppf(alpha/2, df= n-1)\n",
    "    t_right= st.t.ppf(1-alpha/2, df=n-1)\n",
    "    \n",
    "    conf_l= x_i_mean + t_left * np.sqrt(x_i_var) / np.sqrt(n)\n",
    "    conf_r= x_i_mean + t_right * np.sqrt(x_i_var) / np.sqrt(n)\n",
    "    \n",
    "    #print([conf_l,x_i_mean, conf_r])\n",
    "    if conf_l <= mu <= conf_r :\n",
    "        cnt = cnt+1\n",
    "    \n",
    "print(cnt/m)\n"
   ]
  },
  {
   "cell_type": "markdown",
   "id": "6c1b6a27",
   "metadata": {},
   "source": [
    "Видим, что в среднем такин интервалы накрывают истиннрое значение матож с частотой равной уровеню доверия"
   ]
  },
  {
   "cell_type": "markdown",
   "id": "62e81f69",
   "metadata": {},
   "source": [
    "# Часть №4. Доверительный интервал для          разности математических ожиданий"
   ]
  },
  {
   "cell_type": "code",
   "execution_count": 113,
   "id": "5cecdd0a",
   "metadata": {},
   "outputs": [],
   "source": [
    "n_x = 20\n",
    "n_y = 30\n",
    "mu_x = 5\n",
    "mu_y = 10\n",
    "sigma_x = 2\n",
    "sigma_y = 2\n",
    "\n",
    "\n",
    "x= st.norm.rvs(size = n_x,loc= mu_x,scale = sigma_x)\n",
    "y= st.norm.rvs(size = n_y,loc= mu_y,scale = sigma_y)"
   ]
  },
  {
   "cell_type": "code",
   "execution_count": 114,
   "id": "5e6c298f",
   "metadata": {},
   "outputs": [],
   "source": [
    "x_mean = np.mean(x)\n",
    "y_mean = np.mean(y)\n",
    "x_var = np.var(x,ddof=1)\n",
    "y_var = np.var(y,ddof=1)"
   ]
  },
  {
   "cell_type": "markdown",
   "id": "9e21ff31",
   "metadata": {},
   "source": [
    "Построим 95% дов интервал для разницы матож\n",
    "\n",
    "Дисперсии известны"
   ]
  },
  {
   "cell_type": "code",
   "execution_count": 115,
   "id": "05f39bb0",
   "metadata": {},
   "outputs": [
    {
     "name": "stdout",
     "output_type": "stream",
     "text": [
      "95.0% z - conf interval for mu_x - mu_y is [-6.453063209714108, -4.189891741561763]\n"
     ]
    }
   ],
   "source": [
    "alpha = 0.05\n",
    "conf_l = (x_mean - y_mean) + st.norm.ppf(alpha/2)*np.sqrt( (sigma_x**2) /n_x + (sigma_y**2) /n_y)\n",
    "conf_r = (x_mean - y_mean) + st.norm.ppf(1-alpha/2)*np.sqrt( (sigma_x**2) /n_x + (sigma_y**2) /n_y)\n",
    "print('{}% z - conf interval for mu_x - mu_y is [{}, {}]'. format( (1-alpha)* 100,conf_l,conf_r))"
   ]
  },
  {
   "cell_type": "code",
   "execution_count": 116,
   "id": "24fd2d9f",
   "metadata": {},
   "outputs": [
    {
     "name": "stdout",
     "output_type": "stream",
     "text": [
      "mu_x - mu_y =  -5\n"
     ]
    }
   ],
   "source": [
    "print('mu_x - mu_y = ', mu_x - mu_y)"
   ]
  },
  {
   "cell_type": "markdown",
   "id": "00687efa",
   "metadata": {},
   "source": [
    "Дисперсии неизвестны, но равны"
   ]
  },
  {
   "cell_type": "code",
   "execution_count": 117,
   "id": "723908e8",
   "metadata": {},
   "outputs": [
    {
     "name": "stdout",
     "output_type": "stream",
     "text": [
      "95.0% t - conf interval for mu_x - mu_y is [-6.750498441390954, -3.8924565098849166]\n"
     ]
    }
   ],
   "source": [
    "alpha = 0.05\n",
    "\n",
    "sigma_0 = np.sqrt(((n_x-1)*x_var +(n_y-1)*y_var)  / (n_x + n_y -2))\n",
    "\n",
    "conf_l = (x_mean - y_mean) + \\\n",
    "            st.t.ppf(alpha/2, df = n_x + n_y - 2)* \\\n",
    "                sigma_0 * np.sqrt(1/n_x + 1/n_y)\n",
    "conf_r = (x_mean - y_mean) + \\\n",
    "                st.t.ppf(1-alpha/2, df= n_x + n_y - 2)*  \\\n",
    "                    sigma_0 * np.sqrt(1/n_x + 1/n_y)\n",
    "print('{}% t - conf interval for mu_x - mu_y is [{}, {}]'. format( (1-alpha)* 100,conf_l,conf_r))"
   ]
  },
  {
   "cell_type": "markdown",
   "id": "2ba48043",
   "metadata": {},
   "source": [
    "## Дисперсии неизвестны и не равны \n"
   ]
  },
  {
   "cell_type": "code",
   "execution_count": 118,
   "id": "9364ce03",
   "metadata": {},
   "outputs": [],
   "source": [
    "\n",
    "n_x = 20\n",
    "n_y = 30\n",
    "mu_x = 5\n",
    "mu_y = 10\n",
    "sigma_x = 4\n",
    "sigma_y = 2\n",
    "\n",
    "\n",
    "x= st.norm.rvs(size = n_x,loc= mu_x,scale = sigma_x)\n",
    "y= st.norm.rvs(size = n_y,loc= mu_y,scale = sigma_y)"
   ]
  },
  {
   "cell_type": "code",
   "execution_count": 119,
   "id": "edf44812",
   "metadata": {},
   "outputs": [],
   "source": [
    "x_mean = np.mean(x)\n",
    "y_mean = np.mean(y)\n",
    "x_var = np.var(x,ddof=1)\n",
    "y_var = np.var(y,ddof=1)"
   ]
  },
  {
   "cell_type": "code",
   "execution_count": 120,
   "id": "f0ef32d2",
   "metadata": {},
   "outputs": [
    {
     "name": "stdout",
     "output_type": "stream",
     "text": [
      "95.0% chi2-conf interval for mu_x - mu_y is [-7.06921321554819, -1.3106043998414352]\n"
     ]
    }
   ],
   "source": [
    "alpha = 0.05\n",
    "\n",
    "alpha = 0.05\n",
    "conf_l = (x_mean - y_mean) + st.t.ppf(alpha/2, df = n_x + n_y - 2)*np.sqrt( (x_var) /n_x + (y_var) /n_y)\n",
    "conf_r = (x_mean - y_mean) + st.t.ppf(1-alpha/2, df = n_x + n_y - 2)*np.sqrt( (x_var**2) /n_x + (y_var) /n_y)\n",
    "print('{}% chi2-conf interval for mu_x - mu_y is [{}, {}]'. format( (1-alpha)* 100,conf_l,conf_r))"
   ]
  },
  {
   "cell_type": "markdown",
   "id": "d098747e",
   "metadata": {},
   "source": [
    "Проверим такой метод на большом числе наблюдений"
   ]
  },
  {
   "cell_type": "code",
   "execution_count": 121,
   "id": "73bc3c38",
   "metadata": {},
   "outputs": [
    {
     "name": "stdout",
     "output_type": "stream",
     "text": [
      "0.8873\n"
     ]
    }
   ],
   "source": [
    "m = 10000\n",
    "\n",
    "x_vec = [st.norm.rvs(size= n_x,loc = mu_x,scale = sigma_x) for i in range(m)]\n",
    "y_vec = [st.norm.rvs(size= n_y,loc = mu_y,scale = sigma_y) for i in range(m)]\n",
    "\n",
    "cnt = 0\n",
    "\n",
    "for i in range(m):\n",
    "    x_i_mean = np.mean(x_vec[i])\n",
    "    x_i_var = np.var(x_vec[i],ddof=1)\n",
    "    y_i_mean = np.mean(y_vec[i])\n",
    "    y_i_var = np.var(y_vec[i],ddof=1)\n",
    "    \n",
    "    \n",
    "    \n",
    "    t_left= st.t.ppf(alpha/2, df= n_x+n_y-2)\n",
    "    t_right= st.t.ppf(1-alpha/2, df=n_x+n_y-2)\n",
    "    \n",
    "    conf_l= (x_i_mean- y_i_mean)+ t_left * \\\n",
    "                    np.sqrt( (x_var) /n_x + (y_var) /n_y)\n",
    "    conf_r=  (x_i_mean- y_i_mean) + t_right * \\\n",
    "                    np.sqrt( (x_var) /n_x + (y_var) /n_y)\n",
    "    #print([conf_l,x_i_mean, conf_r])\n",
    "    if conf_l <= mu_x-mu_y <= conf_r :\n",
    "        cnt = cnt+1\n",
    "    \n",
    "print(cnt/m)\n"
   ]
  },
  {
   "cell_type": "markdown",
   "id": "c6afdcc7",
   "metadata": {},
   "source": [
    "Видим, что резульатт неудовлетворителен  \n",
    "Доля испытаний, в которых доверительный интервал накрыл разность матожиданий далека от уровня доверия"
   ]
  },
  {
   "cell_type": "markdown",
   "id": "9db3856f",
   "metadata": {},
   "source": [
    "# Часть №5. Доверительный интервал для           отношения дисперсий"
   ]
  },
  {
   "cell_type": "markdown",
   "id": "d988b2a6",
   "metadata": {},
   "source": [
    "Известно, что\n",
    "\n",
    "$$\\gamma = \\frac{\\hat{\\sigma^2_x}}{\\sigma^2_x} :  \\frac{\\hat{\\sigma^2_y}}{\\sigma^2_y}   \\sim F_{n_x-1, {n_y-1}}$$"
   ]
  },
  {
   "cell_type": "code",
   "execution_count": 122,
   "id": "79d9097b",
   "metadata": {},
   "outputs": [
    {
     "name": "stdout",
     "output_type": "stream",
     "text": [
      "95.0% F - conf interval for sigma_x / sigma/y is [1.126908263084553, 6.039542976349904]\n"
     ]
    }
   ],
   "source": [
    "gamma = x_var / x_var\n",
    "\n",
    "F_lower = st.f.ppf(alpha / 2, dfn = n_y - 1, dfd = n_x - 1)\n",
    "F_upper = st.f.ppf(1-alpha / 2, dfn = n_y - 1, dfd = n_x - 1)\n",
    "\n",
    "conf_l = x_var / y_var * F_lower\n",
    "conf_r = x_var / y_var * F_upper\n",
    "\n",
    "print('{}% F - conf interval for sigma_x / sigma/y is [{}, {}]'. format( (1-alpha)* 100,conf_l,conf_r))"
   ]
  },
  {
   "cell_type": "code",
   "execution_count": 123,
   "id": "22be2d48",
   "metadata": {},
   "outputs": [
    {
     "name": "stdout",
     "output_type": "stream",
     "text": [
      "sigma_x / sigma_y =  2.0\n"
     ]
    }
   ],
   "source": [
    "print('sigma_x / sigma_y = ', sigma_x / sigma_y)"
   ]
  },
  {
   "cell_type": "markdown",
   "id": "626cae2b",
   "metadata": {},
   "source": [
    "# Задания"
   ]
  },
  {
   "cell_type": "markdown",
   "id": "c02b396a",
   "metadata": {},
   "source": [
    "## Задание 1 "
   ]
  },
  {
   "cell_type": "code",
   "execution_count": 124,
   "id": "5f5e95a4",
   "metadata": {},
   "outputs": [],
   "source": [
    "# 1. Имеется реализация выборки (1, 2, 5, 3, 0, -2) из\n",
    "#    нормального распределения с математическим ожиданием 3\n",
    "#    и дисперсией 2. Найдите реализацию 80%-го доверительного\n",
    "#    интервала для:\n",
    "#    1)     математического ожидания при известной дисперсии\n",
    "#    2)     математического ожидания при неизвестной дисперсии\n",
    "#    3)     дисперсии"
   ]
  },
  {
   "cell_type": "code",
   "execution_count": 125,
   "id": "a7a1a821",
   "metadata": {},
   "outputs": [],
   "source": [
    "x = [1, 2, 5, 3, 0, -2]\n",
    "\n",
    "mu_x = 3\n",
    "sigma_x = np.sqrt(2)\n",
    "sigma_est = np.sqrt(np.var(x, ddof= 1))\n",
    "\n",
    "alpha = 0.2"
   ]
  },
  {
   "cell_type": "code",
   "execution_count": 126,
   "id": "dfd7d996",
   "metadata": {},
   "outputs": [
    {
     "name": "stdout",
     "output_type": "stream",
     "text": [
      "80.0% z-интервал для mu [0.7600958586524386 2.2399041413475613]\n"
     ]
    }
   ],
   "source": [
    "conf_l = np.mean(x) + st.norm.ppf(alpha/2)*sigma_x/np.sqrt(len(x))\n",
    "conf_r = np.mean(x) + st.norm.ppf(1-alpha/2)*sigma_x/np.sqrt(len(x))\n",
    "\n",
    "print('{}% z-интервал для mu [{} {}]'.format((1-alpha)*100, conf_l,conf_r))"
   ]
  },
  {
   "cell_type": "code",
   "execution_count": 127,
   "id": "a8fe68bc",
   "metadata": {},
   "outputs": [
    {
     "name": "stdout",
     "output_type": "stream",
     "text": [
      "80.0% t-интервал для mu [0.036466662482512735 2.9635333375174877]\n"
     ]
    }
   ],
   "source": [
    "conf_l = np.mean(x) + st.t.ppf(alpha/2, df = len(x) - 1)*sigma_est/np.sqrt(len(x))\n",
    "conf_r = np.mean(x) + st.t.ppf(1-alpha/2,df = len(x) - 1)*sigma_est/np.sqrt(len(x))\n",
    "\n",
    "print('{}% t-интервал для mu [{} {}]'.format((1-alpha)*100, conf_l,conf_r))"
   ]
  },
  {
   "cell_type": "code",
   "execution_count": 128,
   "id": "6b3ef67c",
   "metadata": {},
   "outputs": [
    {
     "name": "stdout",
     "output_type": "stream",
     "text": [
      "80.0% chi2-conf interval for D[x1] is [3.1938999672802884, 18.319476919225032]\n"
     ]
    }
   ],
   "source": [
    "\n",
    "sigma_conf_l = (sigma_est**2) * (len(x)-1) / st.chi2.ppf(1- alpha/2, df= len(x)-1)\n",
    "sigma_conf_r = (sigma_est**2) * (len(x)-1) / st.chi2.ppf(alpha/2, df= len(x)-1)\n",
    "print('{}% chi2-conf interval for D[x1] is [{}, {}]'. format( (1-alpha)* 100,sigma_conf_l,sigma_conf_r))"
   ]
  },
  {
   "cell_type": "markdown",
   "id": "9e02c069",
   "metadata": {},
   "source": [
    "-2 в выборке - это нетипичное значение, оно не попадает в интерал +- 3 сигмы от матожидания, поэтому доверительные интерваты получились плохие  \n",
    "Если такое значение из выборки убрать, то ДИ накроют параметры"
   ]
  },
  {
   "cell_type": "markdown",
   "id": "fc0715da",
   "metadata": {},
   "source": [
    "## Задание 2"
   ]
  },
  {
   "cell_type": "code",
   "execution_count": 129,
   "id": "d0842b51",
   "metadata": {},
   "outputs": [],
   "source": [
    "# 2. Напишите функции, позволяющие рассчитывать, для\n",
    "#    выборок из нормального распределения, доверительные\n",
    "#    интервалы заданного уровня для:\n",
    "#    1)     математического ожидания при известной дисперсии\n",
    "#    2)     математического ожидания при неизвестной дисперсии\n",
    "#    3)     дисперсии"
   ]
  },
  {
   "cell_type": "code",
   "execution_count": 130,
   "id": "b7ae1de9",
   "metadata": {},
   "outputs": [],
   "source": [
    "def z_conf(x, sigma_x,alpha = 0.05):\n",
    "    conf_l = np.mean(x) + st.norm.ppf(alpha/2)*sigma_x/np.sqrt(len(x))\n",
    "    conf_r = np.mean(x) + st.norm.ppf(1-alpha/2)*sigma_x/np.sqrt(len(x))\n",
    "\n",
    "    print('{}% z-интервал для mu [{} {}]'.format((1-alpha)*100, conf_l,conf_r))"
   ]
  },
  {
   "cell_type": "code",
   "execution_count": 131,
   "id": "37c64380",
   "metadata": {},
   "outputs": [],
   "source": [
    "def t_conf(x, alpha = 0.05):\n",
    "    sigma_est= np.sqrt(np.var(x,ddof=1))\n",
    "    conf_l = np.mean(x) + st.t.ppf(alpha/2, df = len(x) - 1)*sigma_est/np.sqrt(len(x))\n",
    "    conf_r = np.mean(x) + st.t.ppf(1-alpha/2,df = len(x) - 1)*sigma_est/np.sqrt(len(x))\n",
    "\n",
    "    print('{}% t-интервал для mu [{} {}]'.format((1-alpha)*100, conf_l,conf_r))"
   ]
  },
  {
   "cell_type": "code",
   "execution_count": 132,
   "id": "2a6787e1",
   "metadata": {},
   "outputs": [],
   "source": [
    "def var_conf(x, alpha = 0.05):\n",
    "    sigma_est= np.sqrt(np.var(x,ddof=1))\n",
    "    sigma_conf_l = (sigma_est**2) * (len(x)-1) / st.chi2.ppf(1- alpha/2, df= len(x)-1)\n",
    "    sigma_conf_r = (sigma_est**2) * (len(x)-1) / st.chi2.ppf(alpha/2, df= len(x)-1)\n",
    "    print('{}% chi2-conf interval for D[x1] is [{}, {}]'. format( (1-alpha)* 100,sigma_conf_l,sigma_conf_r))"
   ]
  },
  {
   "cell_type": "code",
   "execution_count": 133,
   "id": "a3a73474",
   "metadata": {},
   "outputs": [],
   "source": [
    "## Задание 3"
   ]
  },
  {
   "cell_type": "code",
   "execution_count": 134,
   "id": "e6132857",
   "metadata": {},
   "outputs": [
    {
     "name": "stdout",
     "output_type": "stream",
     "text": [
      "80.0% z-интервал для mu [0.7600958586524386 2.2399041413475613]\n",
      "80.0% t-интервал для mu [0.036466662482512735 2.9635333375174877]\n",
      "80.0% chi2-conf interval for D[x1] is [3.1938999672802884, 18.319476919225032]\n"
     ]
    }
   ],
   "source": [
    "z_conf(x,sigma_x,alpha)\n",
    "t_conf(x,alpha)\n",
    "var_conf(x,alpha)"
   ]
  },
  {
   "cell_type": "markdown",
   "id": "7c7eba07",
   "metadata": {},
   "source": [
    "## Задание 4"
   ]
  },
  {
   "cell_type": "code",
   "execution_count": null,
   "id": "7b8c5f00",
   "metadata": {},
   "outputs": [],
   "source": [
    "# 4. Имеется реализация выборки (1, 2, 5, 3, 0, -2) из\n",
    "#    нормального распределения с математическим ожиданием 3\n",
    "#    и дисперсией 5. Кроме того, имеется реализация другой\n",
    "#    выборки (-2, 0, 3, 8, 1) с математическим ожиданием 2\n",
    "#    и дисперсей 5. Найдите реализации 80%-х доверительных\n",
    "#    интервалов для:\n",
    "#    1)     разницы математических ожиданий при известных дисперсиях\n",
    "#    2)     разницы математических ожиданий при неизвестных,\n",
    "#           но равных дисперсиях"
   ]
  },
  {
   "cell_type": "code",
   "execution_count": 141,
   "id": "33bb3f8c",
   "metadata": {},
   "outputs": [],
   "source": [
    "x =[1, 2, 5, 3, 0, -2]\n",
    "y= [-2, 0, 3, 8, 1]\n",
    "\n",
    "n_x = len(x)\n",
    "n_y = len(y)\n",
    "\n",
    "mu_x = 3\n",
    "sigma_x = np.sqrt(5)\n",
    "mu_y = 2\n",
    "sigma_y = np.sqrt(5)\n",
    "alpha=0.2"
   ]
  },
  {
   "cell_type": "code",
   "execution_count": 142,
   "id": "17258e5d",
   "metadata": {},
   "outputs": [],
   "source": [
    "mean_x = np.mean(x)\n",
    "mean_y = np.mean(y)\n",
    "sigma_x_est = np.sqrt(np.var(x,ddof =1 ))\n",
    "sigma_y_est = np.sqrt(np.var(y,ddof =1 ))\n"
   ]
  },
  {
   "cell_type": "code",
   "execution_count": 146,
   "id": "23ebe1cb",
   "metadata": {},
   "outputs": [
    {
     "name": "stdout",
     "output_type": "stream",
     "text": [
      "80.0% z-conf interval for mu_x-mu_y is [-2.235229022667612, 1.2352290226676124]\n"
     ]
    }
   ],
   "source": [
    "conf_l = (mean_x - mean_y) + st.norm.ppf(alpha/2)*np.sqrt( (sigma_x**2) /n_x + (sigma_y**2) /n_y)\n",
    "conf_r = (mean_x - mean_y) + st.norm.ppf(1-alpha/2)*np.sqrt( (sigma_x**2) /n_x + (sigma_y**2) /n_y)\n",
    "print('{}% z-conf interval for mu_x-mu_y is [{}, {}]'. format( (1-alpha)* 100,conf_l,conf_r))"
   ]
  },
  {
   "cell_type": "code",
   "execution_count": 147,
   "id": "56eace5a",
   "metadata": {},
   "outputs": [
    {
     "name": "stdout",
     "output_type": "stream",
     "text": [
      "80.0% t - conf interval for mu_x - mu_y is [-3.1112574470644985, 2.1112574470644985]\n"
     ]
    }
   ],
   "source": [
    "\n",
    "\n",
    "sigma_0 = np.sqrt(((n_x-1)*(sigma_x_est**2) +(n_y-1)*(sigma_y_est**2))  / (n_x + n_y -2))\n",
    "\n",
    "conf_l = (mean_x - mean_y) + \\\n",
    "            st.t.ppf(alpha/2, df = n_x + n_y - 2)* \\\n",
    "                sigma_0 * np.sqrt(1/n_x + 1/n_y)\n",
    "conf_r = (mean_x - mean_y) + \\\n",
    "                st.t.ppf(1-alpha/2, df= n_x + n_y - 2)*  \\\n",
    "                    sigma_0 * np.sqrt(1/n_x + 1/n_y)\n",
    "print('{}% t - conf interval for mu_x - mu_y is [{}, {}]'. format( (1-alpha)* 100,conf_l,conf_r))"
   ]
  },
  {
   "cell_type": "markdown",
   "id": "0f4d2a60",
   "metadata": {},
   "source": [
    "## Задание 5"
   ]
  },
  {
   "cell_type": "code",
   "execution_count": 149,
   "id": "1f7df1fb",
   "metadata": {},
   "outputs": [],
   "source": [
    "# 5. Имеется реализации выборок (1, 2, 5, 3, 0, -2) и\n",
    "#    (-2, 0, 3, 8, 1). Найдите реализацию 80%-го доверительного\n",
    "#    интервала для отношения дисперсий."
   ]
  },
  {
   "cell_type": "code",
   "execution_count": 150,
   "id": "47fd7797",
   "metadata": {},
   "outputs": [
    {
     "name": "stdout",
     "output_type": "stream",
     "text": [
      "80.0% F - conf interval for sigma_x / sigma/y is [0.10045392147494862, 1.4323557137000922]\n"
     ]
    }
   ],
   "source": [
    "gamma = sigma_x_est**2 / sigma_y_est**2\n",
    "\n",
    "F_lower = st.f.ppf(alpha / 2, dfn = n_y - 1, dfd = n_x - 1)\n",
    "F_upper = st.f.ppf(1-alpha / 2, dfn = n_y - 1, dfd = n_x - 1)\n",
    "\n",
    "conf_l =  sigma_x_est**2 / sigma_y_est**2 * F_lower\n",
    "conf_r =  sigma_x_est**2 / sigma_y_est**2 * F_upper\n",
    "\n",
    "print('{}% F - conf interval for sigma_x / sigma/y is [{}, {}]'. format( (1-alpha)* 100,conf_l,conf_r))"
   ]
  },
  {
   "cell_type": "markdown",
   "id": "0fb55883",
   "metadata": {},
   "source": [
    "## Задание 6"
   ]
  },
  {
   "cell_type": "code",
   "execution_count": 152,
   "id": "641def34",
   "metadata": {},
   "outputs": [],
   "source": [
    "# 6. Повторите задания №4 и №5 используя самостоятельно\n",
    "#    запрограммированные для общего случая функции, то\n",
    "#    есть по аналогии с заданием №2"
   ]
  },
  {
   "cell_type": "code",
   "execution_count": 156,
   "id": "c88936d5",
   "metadata": {},
   "outputs": [],
   "source": [
    "def z_conf_diff(x,y,sigma_x,sigma_y,alpha):\n",
    "    n_x = len(x)\n",
    "    n_y = len(y)\n",
    "    \n",
    "    mean_x = np.mean(x)\n",
    "    mean_y = np.mean(y)\n",
    "    sigma_x_est = np.sqrt(np.var(x,ddof =1 ))\n",
    "    sigma_y_est = np.sqrt(np.var(y,ddof =1 ))\n",
    "    conf_l = (mean_x - mean_y) + st.norm.ppf(alpha/2)*np.sqrt( (sigma_x**2) /n_x + (sigma_y**2) /n_y)\n",
    "    conf_r = (mean_x - mean_y) + st.norm.ppf(1-alpha/2)*np.sqrt( (sigma_x**2) /n_x + (sigma_y**2) /n_y)\n",
    "    print('{}% z-conf interval for mu_x-mu_y is [{}, {}]'. format( (1-alpha)* 100,conf_l,conf_r))"
   ]
  },
  {
   "cell_type": "code",
   "execution_count": 157,
   "id": "67a6d0f6",
   "metadata": {},
   "outputs": [],
   "source": [
    "def t_conf_diff(x,y,alpha):\n",
    "    n_x = len(x)\n",
    "    n_y = len(y)\n",
    "    \n",
    "    mean_x = np.mean(x)\n",
    "    mean_y = np.mean(y)\n",
    "    sigma_x_est = np.sqrt(np.var(x,ddof =1 ))\n",
    "    sigma_y_est = np.sqrt(np.var(y,ddof =1 ))\n",
    "    \n",
    "\n",
    "    sigma_0 = np.sqrt(((n_x-1)*(sigma_x_est**2) +(n_y-1)*(sigma_y_est**2))  / (n_x + n_y -2))\n",
    "\n",
    "    conf_l = (mean_x - mean_y) + \\\n",
    "                st.t.ppf(alpha/2, df = n_x + n_y - 2)* \\\n",
    "                    sigma_0 * np.sqrt(1/n_x + 1/n_y)\n",
    "    conf_r = (mean_x - mean_y) + \\\n",
    "                    st.t.ppf(1-alpha/2, df= n_x + n_y - 2)*  \\\n",
    "                        sigma_0 * np.sqrt(1/n_x + 1/n_y)\n",
    "    print('{}% t - conf interval for mu_x - mu_y is [{}, {}]'. format( (1-alpha)* 100,conf_l,conf_r))"
   ]
  },
  {
   "cell_type": "code",
   "execution_count": 158,
   "id": "c3ae2252",
   "metadata": {},
   "outputs": [],
   "source": [
    "def z_conf_disp(x,y,alpha):\n",
    "    n_x = len(x)\n",
    "    n_y = len(y)\n",
    "    \n",
    "    mean_x = np.mean(x)\n",
    "    mean_y = np.mean(y)\n",
    "    sigma_x_est = np.sqrt(np.var(x,ddof =1 ))\n",
    "    sigma_y_est = np.sqrt(np.var(y,ddof =1 ))\n",
    "    gamma = sigma_x_est**2 / sigma_y_est**2\n",
    "\n",
    "    F_lower = st.f.ppf(alpha / 2, dfn = n_y - 1, dfd = n_x - 1)\n",
    "    F_upper = st.f.ppf(1-alpha / 2, dfn = n_y - 1, dfd = n_x - 1)\n",
    "\n",
    "    conf_l =  sigma_x_est**2 / sigma_y_est**2 * F_lower\n",
    "    conf_r =  sigma_x_est**2 / sigma_y_est**2 * F_upper\n",
    "\n",
    "    print('{}% F - conf interval for sigma_x / sigma/y is [{}, {}]'. format( (1-alpha)* 100,conf_l,conf_r))"
   ]
  },
  {
   "cell_type": "code",
   "execution_count": 160,
   "id": "446d4d59",
   "metadata": {},
   "outputs": [
    {
     "name": "stdout",
     "output_type": "stream",
     "text": [
      "80.0% z-conf interval for mu_x-mu_y is [-2.235229022667612, 1.2352290226676124]\n",
      "80.0% t - conf interval for mu_x - mu_y is [-3.1112574470644985, 2.1112574470644985]\n",
      "80.0% F - conf interval for sigma_x / sigma/y is [0.10045392147494862, 1.4323557137000922]\n"
     ]
    }
   ],
   "source": [
    "z_conf_diff(x,y,sigma_x,sigma_y,alpha)\n",
    "t_conf_diff(x,y,alpha)\n",
    "z_conf_disp(x,y,alpha)"
   ]
  },
  {
   "cell_type": "code",
   "execution_count": null,
   "id": "001ab04c",
   "metadata": {},
   "outputs": [],
   "source": []
  }
 ],
 "metadata": {
  "kernelspec": {
   "display_name": "Python 3 (ipykernel)",
   "language": "python",
   "name": "python3"
  },
  "language_info": {
   "codemirror_mode": {
    "name": "ipython",
    "version": 3
   },
   "file_extension": ".py",
   "mimetype": "text/x-python",
   "name": "python",
   "nbconvert_exporter": "python",
   "pygments_lexer": "ipython3",
   "version": "3.9.7"
  }
 },
 "nbformat": 4,
 "nbformat_minor": 5
}
